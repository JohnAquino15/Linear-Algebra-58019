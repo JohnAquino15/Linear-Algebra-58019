{
  "nbformat": 4,
  "nbformat_minor": 0,
  "metadata": {
    "colab": {
      "name": "Linear Transformation.ipynb",
      "provenance": [],
      "collapsed_sections": [],
      "authorship_tag": "ABX9TyPUx6fcdnmiW33Y6pitv0gy",
      "include_colab_link": true
    },
    "kernelspec": {
      "name": "python3",
      "display_name": "Python 3"
    },
    "language_info": {
      "name": "python"
    }
  },
  "cells": [
    {
      "cell_type": "markdown",
      "metadata": {
        "id": "view-in-github",
        "colab_type": "text"
      },
      "source": [
        "<a href=\"https://colab.research.google.com/github/JohnAquino15/Linear-Algebra-58019/blob/main/Linear_Transformation.ipynb\" target=\"_parent\"><img src=\"https://colab.research.google.com/assets/colab-badge.svg\" alt=\"Open In Colab\"/></a>"
      ]
    },
    {
      "cell_type": "markdown",
      "metadata": {
        "id": "5XdxMq1MJDzO"
      },
      "source": [
        "**John Benedict Aquino**"
      ]
    },
    {
      "cell_type": "code",
      "metadata": {
        "colab": {
          "base_uri": "https://localhost:8080/"
        },
        "id": "vcWal1OBJKDz",
        "outputId": "09fa23ce-d9e5-4220-bc56-28204b160381"
      },
      "source": [
        "import numpy as np\n",
        "A=np.array([[4,3,2],[-2,2,3],[3,-5,2]]) #matrix A\n",
        "print(A)\n",
        "A_inv=np.linalg.inv(A) #inverse of matrix A\n",
        "print(A_inv)"
      ],
      "execution_count": 3,
      "outputs": [
        {
          "output_type": "stream",
          "name": "stdout",
          "text": [
            "[[ 4  3  2]\n",
            " [-2  2  3]\n",
            " [ 3 -5  2]]\n",
            "[[ 0.15447154 -0.1300813   0.04065041]\n",
            " [ 0.10569106  0.01626016 -0.1300813 ]\n",
            " [ 0.03252033  0.23577236  0.11382114]]\n"
          ]
        }
      ]
    },
    {
      "cell_type": "code",
      "metadata": {
        "colab": {
          "base_uri": "https://localhost:8080/"
        },
        "id": "DxwtTwmcKJef",
        "outputId": "17190532-20f7-41b3-8668-517f1d8fc9d9"
      },
      "source": [
        "B=np.array([[25],[-10],[-4]])#Constants\n",
        "print(B)"
      ],
      "execution_count": 6,
      "outputs": [
        {
          "output_type": "stream",
          "name": "stdout",
          "text": [
            "[[ 25]\n",
            " [-10]\n",
            " [ -4]]\n"
          ]
        }
      ]
    },
    {
      "cell_type": "code",
      "metadata": {
        "colab": {
          "base_uri": "https://localhost:8080/"
        },
        "id": "PLKePvgVMtzY",
        "outputId": "b17384fe-c92b-4004-df33-2caf6ca6f569"
      },
      "source": [
        "X=np.dot(A_inv,B) #dot product of inversed matrix A and constants to get the missing variables x,y,z\n",
        "print(X)"
      ],
      "execution_count": 10,
      "outputs": [
        {
          "output_type": "stream",
          "name": "stdout",
          "text": [
            "[[ 5.]\n",
            " [ 3.]\n",
            " [-2.]]\n"
          ]
        }
      ]
    },
    {
      "cell_type": "markdown",
      "metadata": {
        "id": "RYkxQ-OBOKYA"
      },
      "source": [
        "**Answer: x=5, y=3, z=-2**"
      ]
    },
    {
      "cell_type": "code",
      "metadata": {
        "id": "G45J9YJqM6BC"
      },
      "source": [
        ""
      ],
      "execution_count": null,
      "outputs": []
    }
  ]
}