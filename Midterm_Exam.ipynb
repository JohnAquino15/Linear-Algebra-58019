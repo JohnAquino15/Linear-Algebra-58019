{
  "nbformat": 4,
  "nbformat_minor": 0,
  "metadata": {
    "colab": {
      "name": "Midterm Exam",
      "provenance": [],
      "collapsed_sections": [],
      "authorship_tag": "ABX9TyPIA7tjTSTRbHk9gjij2IfD",
      "include_colab_link": true
    },
    "kernelspec": {
      "name": "python3",
      "display_name": "Python 3"
    },
    "language_info": {
      "name": "python"
    }
  },
  "cells": [
    {
      "cell_type": "markdown",
      "metadata": {
        "id": "view-in-github",
        "colab_type": "text"
      },
      "source": [
        "<a href=\"https://colab.research.google.com/github/JohnAquino15/Linear-Algebra-58019/blob/main/Midterm_Exam.ipynb\" target=\"_parent\"><img src=\"https://colab.research.google.com/assets/colab-badge.svg\" alt=\"Open In Colab\"/></a>"
      ]
    },
    {
      "cell_type": "markdown",
      "metadata": {
        "id": "cuVQ_C1M3zr1"
      },
      "source": [
        "# **Midterm Exam**"
      ]
    },
    {
      "cell_type": "markdown",
      "metadata": {
        "id": "VNJeH01N37Fb"
      },
      "source": [
        "John Benedict Aquino Linear Algebra 58019"
      ]
    },
    {
      "cell_type": "code",
      "metadata": {
        "colab": {
          "base_uri": "https://localhost:8080/"
        },
        "id": "-bxJtse14Cci",
        "outputId": "92b80ba6-5527-434b-cddf-a43c942871aa"
      },
      "source": [
        "#Question 1. Create a Python code that displays a square matrix whose length is 5 \n",
        "import numpy as np\n",
        "A = np.array([[2,4,5,6,7],[6,7,3,5,8],[3,6,7,8,9],[1,4,5,7,8],[3,5,7,8,1]])\n",
        "print(A)"
      ],
      "execution_count": 64,
      "outputs": [
        {
          "output_type": "stream",
          "name": "stdout",
          "text": [
            "[[2 4 5 6 7]\n",
            " [6 7 3 5 8]\n",
            " [3 6 7 8 9]\n",
            " [1 4 5 7 8]\n",
            " [3 5 7 8 1]]\n"
          ]
        }
      ]
    },
    {
      "cell_type": "code",
      "metadata": {
        "colab": {
          "base_uri": "https://localhost:8080/"
        },
        "id": "QjLRjV8R4t6T",
        "outputId": "1a094409-f0fd-4b45-c19c-faa56a547218"
      },
      "source": [
        "#Question 2. Create a Python code that displays a square matrix whose elements below the principal diagonal are zero\n",
        "import numpy as np\n",
        "A = np.array([[2,4,5,6,7],[0,7,3,5,8],[0,0,7,8,9],[0,0,0,7,8],[0,0,0,0,1]])\n",
        "print(A)"
      ],
      "execution_count": 65,
      "outputs": [
        {
          "output_type": "stream",
          "name": "stdout",
          "text": [
            "[[2 4 5 6 7]\n",
            " [0 7 3 5 8]\n",
            " [0 0 7 8 9]\n",
            " [0 0 0 7 8]\n",
            " [0 0 0 0 1]]\n"
          ]
        }
      ]
    },
    {
      "cell_type": "code",
      "metadata": {
        "colab": {
          "base_uri": "https://localhost:8080/"
        },
        "id": "HcmWCHh55fxf",
        "outputId": "93876b42-81f2-407e-dac1-80de69b4f4d6"
      },
      "source": [
        "#Question 3. Create a Python code that displays a square matrix which is symmetrical (10 points)\n",
        "import numpy as np\n",
        "A = np.array([[1,3,6],[3,7,5],[6,5,8]])\n",
        "print(A)"
      ],
      "execution_count": 66,
      "outputs": [
        {
          "output_type": "stream",
          "name": "stdout",
          "text": [
            "[[1 3 6]\n",
            " [3 7 5]\n",
            " [6 5 8]]\n"
          ]
        }
      ]
    },
    {
      "cell_type": "code",
      "metadata": {
        "colab": {
          "base_uri": "https://localhost:8080/"
        },
        "id": "BvV4lu4G64Ij",
        "outputId": "c2524562-75fd-43d5-bb81-2080c7f29cbb"
      },
      "source": [
        "#Question 4. What is the inverse of matrix C? Show your solution by python coding. \n",
        "import numpy as np\n",
        "C = np.array([[1,2,3],[2,3,3],[3,4,-2]]) #Matrix C\n",
        "print(C)\n"
      ],
      "execution_count": 67,
      "outputs": [
        {
          "output_type": "stream",
          "name": "stdout",
          "text": [
            "[[ 1  2  3]\n",
            " [ 2  3  3]\n",
            " [ 3  4 -2]]\n"
          ]
        }
      ]
    },
    {
      "cell_type": "code",
      "metadata": {
        "colab": {
          "base_uri": "https://localhost:8080/"
        },
        "id": "4_9WYviG7rfO",
        "outputId": "66cb71c6-10c9-49d2-ed64-1d970542771c"
      },
      "source": [
        "C_inv=np.linalg.inv(C) #Inverse of Matrix C\n",
        "print(C_inv)"
      ],
      "execution_count": 68,
      "outputs": [
        {
          "output_type": "stream",
          "name": "stdout",
          "text": [
            "[[-3.6  3.2 -0.6]\n",
            " [ 2.6 -2.2  0.6]\n",
            " [-0.2  0.4 -0.2]]\n"
          ]
        }
      ]
    },
    {
      "cell_type": "code",
      "metadata": {
        "colab": {
          "base_uri": "https://localhost:8080/"
        },
        "id": "byBSjs0J9AKx",
        "outputId": "9950a6f8-87fc-45e4-dab6-243b6c71f375"
      },
      "source": [
        "#Question 5. What is the determinant of the given matrix in Question 4? Show your solution by python coding.\n",
        "import numpy as np\n",
        "C = np.array([[1,2,3],[2,3,3],[3,4,-2]]) #Matrix C\n",
        "print('Determinant =',round(np.linalg.det(C))) #Determinant of Matrix C"
      ],
      "execution_count": 69,
      "outputs": [
        {
          "output_type": "stream",
          "name": "stdout",
          "text": [
            "Determinant = 5\n"
          ]
        }
      ]
    },
    {
      "cell_type": "code",
      "metadata": {
        "colab": {
          "base_uri": "https://localhost:8080/"
        },
        "id": "JCgPGfBd9FVo",
        "outputId": "ccea303b-8438-4347-f727-53df4146ddf0"
      },
      "source": [
        "#Question 6. Find the roots of the linear equations by showing its python codes\n",
        "#5X1 + 4X2 + X3 = 3.4\n",
        "#10X1 + 9X2 + 4X3 = 8.8\n",
        "#10X1 + 13X2 + 15X3 = 19.2\n",
        "\n",
        "import numpy as np\n",
        "A=np.array([[5,4,1],[10,9,4],[10,13,15]]) #Matrix A of Linear Equations\n",
        "print(A)"
      ],
      "execution_count": 70,
      "outputs": [
        {
          "output_type": "stream",
          "name": "stdout",
          "text": [
            "[[ 5  4  1]\n",
            " [10  9  4]\n",
            " [10 13 15]]\n"
          ]
        }
      ]
    },
    {
      "cell_type": "code",
      "metadata": {
        "colab": {
          "base_uri": "https://localhost:8080/"
        },
        "id": "OXzeSGfr-u8U",
        "outputId": "63f75e40-bd65-4586-fc3d-490ed50c155e"
      },
      "source": [
        "B = np.array([[3.4],[8.8],[19.2]]) #Constants\n",
        "print(B)"
      ],
      "execution_count": 71,
      "outputs": [
        {
          "output_type": "stream",
          "name": "stdout",
          "text": [
            "[[ 3.4]\n",
            " [ 8.8]\n",
            " [19.2]]\n"
          ]
        }
      ]
    },
    {
      "cell_type": "code",
      "metadata": {
        "colab": {
          "base_uri": "https://localhost:8080/"
        },
        "id": "Huahlg1U_QRL",
        "outputId": "6b545723-e70d-4d63-a63c-3bce3c431cdf"
      },
      "source": [
        "A_inv=np.linalg.inv(A) #Inverse of matrix A \n",
        "print(A_inv)"
      ],
      "execution_count": 72,
      "outputs": [
        {
          "output_type": "stream",
          "name": "stdout",
          "text": [
            "[[ 5.53333333 -3.13333333  0.46666667]\n",
            " [-7.33333333  4.33333333 -0.66666667]\n",
            " [ 2.66666667 -1.66666667  0.33333333]]\n"
          ]
        }
      ]
    },
    {
      "cell_type": "code",
      "metadata": {
        "colab": {
          "base_uri": "https://localhost:8080/"
        },
        "id": "P9TNks1B_eFV",
        "outputId": "244204ef-e512-44bf-eb0a-2fd5a2370673"
      },
      "source": [
        "X=np.dot(A_inv,B) #Formula to get the missing variable X1, X2, AND X3\n",
        "print(X)"
      ],
      "execution_count": 73,
      "outputs": [
        {
          "output_type": "stream",
          "name": "stdout",
          "text": [
            "[[0.2]\n",
            " [0.4]\n",
            " [0.8]]\n"
          ]
        }
      ]
    },
    {
      "cell_type": "markdown",
      "metadata": {
        "id": "U0NFhgZLAaVh"
      },
      "source": [
        "X1=0.2, X2=0.4, X3=0.8"
      ]
    },
    {
      "cell_type": "code",
      "metadata": {
        "id": "GLnWjneABxKt"
      },
      "source": [
        ""
      ],
      "execution_count": 73,
      "outputs": []
    }
  ]
}