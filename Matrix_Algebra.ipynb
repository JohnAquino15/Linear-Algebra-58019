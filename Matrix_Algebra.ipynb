{
  "nbformat": 4,
  "nbformat_minor": 0,
  "metadata": {
    "colab": {
      "name": "Matrix Algebra.ipynb",
      "provenance": [],
      "collapsed_sections": [],
      "authorship_tag": "ABX9TyN6lvDGEHCJEIssV1F1/TJE",
      "include_colab_link": true
    },
    "kernelspec": {
      "name": "python3",
      "display_name": "Python 3"
    },
    "language_info": {
      "name": "python"
    }
  },
  "cells": [
    {
      "cell_type": "markdown",
      "metadata": {
        "id": "view-in-github",
        "colab_type": "text"
      },
      "source": [
        "<a href=\"https://colab.research.google.com/github/JohnAquino15/Linear-Algebra-58019/blob/main/Matrix_Algebra.ipynb\" target=\"_parent\"><img src=\"https://colab.research.google.com/assets/colab-badge.svg\" alt=\"Open In Colab\"/></a>"
      ]
    },
    {
      "cell_type": "markdown",
      "metadata": {
        "id": "YeTfSKPU4lub"
      },
      "source": [
        "##Python Program to Inverse"
      ]
    },
    {
      "cell_type": "markdown",
      "metadata": {
        "id": "9U6vzUEsAFj2"
      },
      "source": [
        "###John Benedict Aquino"
      ]
    },
    {
      "cell_type": "code",
      "metadata": {
        "colab": {
          "base_uri": "https://localhost:8080/"
        },
        "id": "rWggIaS54pxM",
        "outputId": "f8a3958b-e501-457d-948c-dd9c187119f0"
      },
      "source": [
        "import numpy as np\n",
        "A = np.array([[2,3,4],\n",
        "              [8,4,5],\n",
        "              [7,8,6]])\n",
        "invA=np.linalg.inv(A)\n",
        "print(invA)"
      ],
      "execution_count": 32,
      "outputs": [
        {
          "output_type": "stream",
          "name": "stdout",
          "text": [
            "[[-0.21917808  0.19178082 -0.01369863]\n",
            " [-0.17808219 -0.21917808  0.30136986]\n",
            " [ 0.49315068  0.06849315 -0.21917808]]\n"
          ]
        }
      ]
    },
    {
      "cell_type": "code",
      "metadata": {
        "colab": {
          "base_uri": "https://localhost:8080/"
        },
        "id": "J-FBcUuk4r6A",
        "outputId": "becc8645-4db4-42ce-c0db-b09b6616ee87"
      },
      "source": [
        "B = np.dot(A,invA)\n",
        "print(B)"
      ],
      "execution_count": 34,
      "outputs": [
        {
          "output_type": "stream",
          "name": "stdout",
          "text": [
            "[[ 1.00000000e+00  0.00000000e+00  0.00000000e+00]\n",
            " [ 5.55111512e-17  1.00000000e+00  0.00000000e+00]\n",
            " [-1.11022302e-16  1.11022302e-16  1.00000000e+00]]\n"
          ]
        }
      ]
    },
    {
      "cell_type": "code",
      "metadata": {
        "colab": {
          "base_uri": "https://localhost:8080/"
        },
        "id": "WwB--S4q5BVz",
        "outputId": "b435b5a0-2577-4b0a-8c93-63d4a23f4bf0"
      },
      "source": [
        "##Python Program to Inverse a 3x3 Matrix A=([[6,1,1],[4,-2,5],[2,8,7]])\n",
        "import numpy as np\n",
        "A = np.array([[6,1,1],[4,-2,5],[2,8,7]])\n",
        "print(A)"
      ],
      "execution_count": 14,
      "outputs": [
        {
          "output_type": "stream",
          "name": "stdout",
          "text": [
            "[[ 6  1  1]\n",
            " [ 4 -2  5]\n",
            " [ 2  8  7]]\n"
          ]
        }
      ]
    },
    {
      "cell_type": "code",
      "metadata": {
        "colab": {
          "base_uri": "https://localhost:8080/"
        },
        "id": "jPZ6uszN5aRW",
        "outputId": "7c97e13e-6149-41bd-e6cc-490dabe26f9b"
      },
      "source": [
        "B= np.linalg.inv(A)\n",
        "print(B)"
      ],
      "execution_count": 13,
      "outputs": [
        {
          "output_type": "stream",
          "name": "stdout",
          "text": [
            "[[ 0.17647059 -0.00326797 -0.02287582]\n",
            " [ 0.05882353 -0.13071895  0.08496732]\n",
            " [-0.11764706  0.1503268   0.05228758]]\n"
          ]
        }
      ]
    },
    {
      "cell_type": "code",
      "metadata": {
        "colab": {
          "base_uri": "https://localhost:8080/"
        },
        "id": "3F3_vh3c7dwS",
        "outputId": "bc4369e7-be85-4f5e-e50b-e049cd60718e"
      },
      "source": [
        "C=np.transpose(A)\n",
        "print(C)"
      ],
      "execution_count": 15,
      "outputs": [
        {
          "output_type": "stream",
          "name": "stdout",
          "text": [
            "[[ 6  4  2]\n",
            " [ 1 -2  8]\n",
            " [ 1  5  7]]\n"
          ]
        }
      ]
    },
    {
      "cell_type": "code",
      "metadata": {
        "colab": {
          "base_uri": "https://localhost:8080/"
        },
        "id": "QAW7dbGF7gae",
        "outputId": "18773d58-ac2d-4288-93ad-b1346106d053"
      },
      "source": [
        "D=np.dot(A,B)\n",
        "print(D)"
      ],
      "execution_count": 17,
      "outputs": [
        {
          "output_type": "stream",
          "name": "stdout",
          "text": [
            "[[ 1.00000000e+00  0.00000000e+00  2.77555756e-17]\n",
            " [-1.38777878e-17  1.00000000e+00  1.38777878e-17]\n",
            " [-4.16333634e-17  1.38777878e-16  1.00000000e+00]]\n"
          ]
        }
      ]
    },
    {
      "cell_type": "code",
      "metadata": {
        "colab": {
          "base_uri": "https://localhost:8080/"
        },
        "id": "w-o9PhZX7kJx",
        "outputId": "52fecc42-7247-4edd-e780-37998500e8b5"
      },
      "source": [
        "productAB=A*B\n",
        "print(productAB)"
      ],
      "execution_count": 19,
      "outputs": [
        {
          "output_type": "stream",
          "name": "stdout",
          "text": [
            "[[ 1.05882353 -0.00326797 -0.02287582]\n",
            " [ 0.23529412  0.26143791  0.4248366 ]\n",
            " [-0.23529412  1.20261438  0.36601307]]\n"
          ]
        }
      ]
    },
    {
      "cell_type": "markdown",
      "metadata": {
        "id": "mrIJoCIM-iqU"
      },
      "source": [
        "##Coding Activity 3"
      ]
    },
    {
      "cell_type": "code",
      "metadata": {
        "colab": {
          "base_uri": "https://localhost:8080/"
        },
        "id": "dQFXeksP-mmr",
        "outputId": "eada1cbe-c05f-471d-bcb3-34e26f5cb081"
      },
      "source": [
        "##Create a Python Program to inverse and transpose a 4x4 matrix.\n",
        "import numpy as np\n",
        "A=np.array([[6,1,1,3],[4,-2,5,1],[2,8,7,6],[3,1,9,7]])\n",
        "print(A)"
      ],
      "execution_count": 43,
      "outputs": [
        {
          "output_type": "stream",
          "name": "stdout",
          "text": [
            "[[ 6  1  1  3]\n",
            " [ 4 -2  5  1]\n",
            " [ 2  8  7  6]\n",
            " [ 3  1  9  7]]\n"
          ]
        }
      ]
    },
    {
      "cell_type": "code",
      "metadata": {
        "colab": {
          "base_uri": "https://localhost:8080/"
        },
        "id": "h-fjRJqcBHxH",
        "outputId": "a4fa5982-85a3-49f7-d825-b90c0ece608b"
      },
      "source": [
        "#Inverse A\n",
        "B=np.linalg.inv(A)\n",
        "print(B)\n"
      ],
      "execution_count": 44,
      "outputs": [
        {
          "output_type": "stream",
          "name": "stdout",
          "text": [
            "[[ 0.13368984  0.10695187  0.02139037 -0.09090909]\n",
            " [-0.00229183  0.02673797  0.14820474 -0.12987013]\n",
            " [-0.12987013  0.18181818  0.06493506 -0.02597403]\n",
            " [ 0.11000764 -0.28342246 -0.11382735  0.23376623]]\n"
          ]
        }
      ]
    },
    {
      "cell_type": "code",
      "metadata": {
        "colab": {
          "base_uri": "https://localhost:8080/"
        },
        "id": "wXX6y2rkBYrL",
        "outputId": "8f1cc760-41df-44df-c296-7fd7ba537a2a"
      },
      "source": [
        "#Transpose A\n",
        "C=np.transpose(A)\n",
        "print(C)"
      ],
      "execution_count": 45,
      "outputs": [
        {
          "output_type": "stream",
          "name": "stdout",
          "text": [
            "[[ 6  4  2  3]\n",
            " [ 1 -2  8  1]\n",
            " [ 1  5  7  9]\n",
            " [ 3  1  6  7]]\n"
          ]
        }
      ]
    },
    {
      "cell_type": "code",
      "metadata": {
        "id": "eksb6ahgBZ1K"
      },
      "source": [
        ""
      ],
      "execution_count": null,
      "outputs": []
    }
  ]
}