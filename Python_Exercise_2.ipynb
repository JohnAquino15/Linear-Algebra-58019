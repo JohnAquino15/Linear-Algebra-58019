{
  "nbformat": 4,
  "nbformat_minor": 0,
  "metadata": {
    "colab": {
      "name": "Python Exercise 2",
      "provenance": [],
      "collapsed_sections": [],
      "authorship_tag": "ABX9TyNrOCi+JazykxeeZqLn1WML",
      "include_colab_link": true
    },
    "kernelspec": {
      "name": "python3",
      "display_name": "Python 3"
    },
    "language_info": {
      "name": "python"
    }
  },
  "cells": [
    {
      "cell_type": "markdown",
      "metadata": {
        "id": "view-in-github",
        "colab_type": "text"
      },
      "source": [
        "<a href=\"https://colab.research.google.com/github/JohnAquino15/Linear-Algebra-58019/blob/main/Python_Exercise_2.ipynb\" target=\"_parent\"><img src=\"https://colab.research.google.com/assets/colab-badge.svg\" alt=\"Open In Colab\"/></a>"
      ]
    },
    {
      "cell_type": "markdown",
      "metadata": {
        "id": "TP1ZUNUY1F4P"
      },
      "source": [
        "**Vector Space Operations**"
      ]
    },
    {
      "cell_type": "code",
      "metadata": {
        "id": "vGluzj-R1mlq"
      },
      "source": [
        ""
      ],
      "execution_count": 7,
      "outputs": []
    },
    {
      "cell_type": "markdown",
      "metadata": {
        "id": "CAqSpoLG1xdr"
      },
      "source": [
        "**Scaling**"
      ]
    },
    {
      "cell_type": "code",
      "metadata": {
        "colab": {
          "base_uri": "https://localhost:8080/"
        },
        "id": "PpelXC5_119u",
        "outputId": "8ceadcd9-f006-458c-889c-e9e52279e2d6"
      },
      "source": [
        "A = np.array([1,5,8,9])\n",
        "S = 5*A\n",
        "S"
      ],
      "execution_count": 7,
      "outputs": [
        {
          "output_type": "execute_result",
          "data": {
            "text/plain": [
              "array([ 5, 25, 40, 45])"
            ]
          },
          "metadata": {},
          "execution_count": 7
        }
      ]
    },
    {
      "cell_type": "markdown",
      "metadata": {
        "id": "3Mj_-SnwzndM"
      },
      "source": [
        "**Cross product**"
      ]
    },
    {
      "cell_type": "code",
      "metadata": {
        "colab": {
          "base_uri": "https://localhost:8080/"
        },
        "id": "ajn36Av7xyjb",
        "outputId": "b741d7c1-619b-45a5-a84e-4086c3e79e55"
      },
      "source": [
        "import numpy as np\n",
        "#initialize arrays\n",
        "A = np.array([2,3,4])\n",
        "B = np.array ([1,7,1])\n",
        "#compute cross product\n",
        "cross = np.cross(A,B)\n",
        "print(cross)\n"
      ],
      "execution_count": 6,
      "outputs": [
        {
          "output_type": "stream",
          "name": "stdout",
          "text": [
            "[-25   2  11]\n"
          ]
        }
      ]
    },
    {
      "cell_type": "code",
      "metadata": {
        "id": "llPo2u8kyf3T"
      },
      "source": [
        ""
      ],
      "execution_count": null,
      "outputs": []
    }
  ]
}