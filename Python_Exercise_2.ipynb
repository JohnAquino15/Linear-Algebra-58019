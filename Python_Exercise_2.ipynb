{
  "nbformat": 4,
  "nbformat_minor": 0,
  "metadata": {
    "colab": {
      "name": "Python Exercise 2",
      "provenance": [],
      "collapsed_sections": [],
      "authorship_tag": "ABX9TyN+2WPsVy3L9h+kaFEkldEf",
      "include_colab_link": true
    },
    "kernelspec": {
      "name": "python3",
      "display_name": "Python 3"
    },
    "language_info": {
      "name": "python"
    }
  },
  "cells": [
    {
      "cell_type": "markdown",
      "metadata": {
        "id": "view-in-github",
        "colab_type": "text"
      },
      "source": [
        "<a href=\"https://colab.research.google.com/github/JohnAquino15/Linear-Algebra-58019/blob/main/Python_Exercise_2.ipynb\" target=\"_parent\"><img src=\"https://colab.research.google.com/assets/colab-badge.svg\" alt=\"Open In Colab\"/></a>"
      ]
    },
    {
      "cell_type": "markdown",
      "metadata": {
        "id": "TP1ZUNUY1F4P"
      },
      "source": [
        "#Representing Vectors#"
      ]
    },
    {
      "cell_type": "markdown",
      "metadata": {
        "id": "pMddIBBqWqDC"
      },
      "source": [
        "John Benedict Aquino"
      ]
    },
    {
      "cell_type": "code",
      "metadata": {
        "id": "vGluzj-R1mlq",
        "colab": {
          "base_uri": "https://localhost:8080/"
        },
        "outputId": "91cd0592-fc45-45ad-80a1-5ac77fc6e899"
      },
      "source": [
        "import numpy as np\n",
        "A = np.array([4,3])\n",
        "B = np.array([2,-5])\n",
        "print('Vector A is ', A)\n",
        "print('Vector B is ', B)"
      ],
      "execution_count": 3,
      "outputs": [
        {
          "output_type": "stream",
          "name": "stdout",
          "text": [
            "Vector A is  [4 3]\n",
            "Vector B is  [ 2 -5]\n"
          ]
        }
      ]
    },
    {
      "cell_type": "markdown",
      "metadata": {
        "id": "HufGCvT_YZGd"
      },
      "source": [
        "#Describing Vectors in Numpy"
      ]
    },
    {
      "cell_type": "code",
      "metadata": {
        "colab": {
          "base_uri": "https://localhost:8080/"
        },
        "id": "Pm70XhOwYdXg",
        "outputId": "6fe0be2f-54b9-4d77-aac8-d1c3b2c02b02"
      },
      "source": [
        "import numpy as np\n",
        "ball1 = np.array([1,2,3])\n",
        "ball2 = np.array([0,1,-1])\n",
        "pool = np.array([ball1,ball2])\n",
        "print(pool.shape)\n",
        "print(pool.ndim)"
      ],
      "execution_count": 15,
      "outputs": [
        {
          "output_type": "stream",
          "name": "stdout",
          "text": [
            "(2, 3)\n",
            "2\n"
          ]
        }
      ]
    },
    {
      "cell_type": "code",
      "metadata": {
        "colab": {
          "base_uri": "https://localhost:8080/"
        },
        "id": "P618mAGnZLPi",
        "outputId": "659b0a33-7a2f-4064-9b01-099bb0e7b9ae"
      },
      "source": [
        "U = np.array([[1,2,3],[4,5,6]])\n",
        "print(U.ndim)\n",
        "print(U.size)"
      ],
      "execution_count": 14,
      "outputs": [
        {
          "output_type": "stream",
          "name": "stdout",
          "text": [
            "2\n",
            "6\n"
          ]
        }
      ]
    },
    {
      "cell_type": "markdown",
      "metadata": {
        "id": "NjqS7rHBaU44"
      },
      "source": [
        "#Spaces"
      ]
    },
    {
      "cell_type": "markdown",
      "metadata": {
        "id": "qSS2ZetCaU-q"
      },
      "source": [
        "##Vector spaces are mathematical objects that abstractly capture the geometry and algebra of linear equations##"
      ]
    },
    {
      "cell_type": "markdown",
      "metadata": {
        "id": "LlnKDlsnbEcF"
      },
      "source": [
        "###Addition of Vectors###"
      ]
    },
    {
      "cell_type": "code",
      "metadata": {
        "colab": {
          "base_uri": "https://localhost:8080/"
        },
        "id": "eafgNJqfa_KG",
        "outputId": "2669c896-0e10-41ec-d406-0f7c45615e0d"
      },
      "source": [
        "addend1 = np.array([0,0,0])\n",
        "addend2 = np.array([1,1,0])\n",
        "sum = addend1 + addend2\n",
        "print(sum)"
      ],
      "execution_count": 16,
      "outputs": [
        {
          "output_type": "stream",
          "name": "stdout",
          "text": [
            "[1 1 0]\n"
          ]
        }
      ]
    },
    {
      "cell_type": "code",
      "metadata": {
        "colab": {
          "base_uri": "https://localhost:8080/"
        },
        "id": "pf3d-X3ibhYf",
        "outputId": "529b47a7-8cad-405a-81d6-84d2c80ce7bd"
      },
      "source": [
        "addend1 = np.array([0,0,0])\n",
        "addend2 = np.array([1,1,0])\n",
        "Resultant = np.add(addend1,addend2)\n",
        "print(Resultant)"
      ],
      "execution_count": 18,
      "outputs": [
        {
          "output_type": "stream",
          "name": "stdout",
          "text": [
            "[1 1 0]\n"
          ]
        }
      ]
    },
    {
      "cell_type": "markdown",
      "metadata": {
        "id": "TMOuZk7ybu1z"
      },
      "source": [
        "##Subtraction of Vector"
      ]
    },
    {
      "cell_type": "code",
      "metadata": {
        "colab": {
          "base_uri": "https://localhost:8080/"
        },
        "id": "8_ynmC2Qb1-3",
        "outputId": "365a6a76-542e-4b4c-a91b-80635474315f"
      },
      "source": [
        "difference = addend1 - addend2\n",
        "print(difference)"
      ],
      "execution_count": 20,
      "outputs": [
        {
          "output_type": "stream",
          "name": "stdout",
          "text": [
            "[-1 -1  0]\n"
          ]
        }
      ]
    },
    {
      "cell_type": "code",
      "metadata": {
        "colab": {
          "base_uri": "https://localhost:8080/"
        },
        "id": "PnDl0_trb37e",
        "outputId": "98233fe9-b48c-4fb6-f25c-b6996d74c529"
      },
      "source": [
        "difference2 = np.subtract(addend1,addend2)\n",
        "print(difference2)"
      ],
      "execution_count": 23,
      "outputs": [
        {
          "output_type": "stream",
          "name": "stdout",
          "text": [
            "[-1 -1  0]\n"
          ]
        }
      ]
    },
    {
      "cell_type": "markdown",
      "metadata": {
        "id": "CAqSpoLG1xdr"
      },
      "source": [
        "##Scaling"
      ]
    },
    {
      "cell_type": "code",
      "metadata": {
        "colab": {
          "base_uri": "https://localhost:8080/"
        },
        "id": "PpelXC5_119u",
        "outputId": "8ceadcd9-f006-458c-889c-e9e52279e2d6"
      },
      "source": [
        "A = np.array([1,5,8,9])\n",
        "S = 5*A\n",
        "S"
      ],
      "execution_count": null,
      "outputs": [
        {
          "output_type": "execute_result",
          "data": {
            "text/plain": [
              "array([ 5, 25, 40, 45])"
            ]
          },
          "metadata": {},
          "execution_count": 7
        }
      ]
    },
    {
      "cell_type": "markdown",
      "metadata": {
        "id": "3Mj_-SnwzndM"
      },
      "source": [
        "**Cross product**"
      ]
    },
    {
      "cell_type": "code",
      "metadata": {
        "colab": {
          "base_uri": "https://localhost:8080/"
        },
        "id": "ajn36Av7xyjb",
        "outputId": "94173217-36c8-4eee-dab5-ede3cd9cf38d"
      },
      "source": [
        "import numpy as np\n",
        "#initialize arrays\n",
        "A = np.array([2,3,4])\n",
        "B = np.array ([1,7,1])\n",
        "#compute cross product\n",
        "cross = np.cross(A,B)\n",
        "print(cross)\n"
      ],
      "execution_count": 26,
      "outputs": [
        {
          "output_type": "stream",
          "name": "stdout",
          "text": [
            "11\n"
          ]
        }
      ]
    },
    {
      "cell_type": "code",
      "metadata": {
        "id": "llPo2u8kyf3T",
        "colab": {
          "base_uri": "https://localhost:8080/"
        },
        "outputId": "93bc2c2d-5b86-418d-b591-44afd3e3c1a4"
      },
      "source": [
        "A = np.array([2,3])\n",
        "B = np.array ([1,7])\n",
        "dot = np.dot(A,B)\n",
        "print(dot)"
      ],
      "execution_count": 27,
      "outputs": [
        {
          "output_type": "stream",
          "name": "stdout",
          "text": [
            "23\n"
          ]
        }
      ]
    },
    {
      "cell_type": "code",
      "metadata": {
        "id": "TN6EWaUDd2fq"
      },
      "source": [
        ""
      ],
      "execution_count": null,
      "outputs": []
    }
  ]
}