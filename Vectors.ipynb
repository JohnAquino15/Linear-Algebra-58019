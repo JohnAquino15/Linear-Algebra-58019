{
  "nbformat": 4,
  "nbformat_minor": 0,
  "metadata": {
    "colab": {
      "name": "Vectors",
      "provenance": [],
      "collapsed_sections": [],
      "authorship_tag": "ABX9TyPPSvOwBqBmY85TanioZ+Uk",
      "include_colab_link": true
    },
    "kernelspec": {
      "name": "python3",
      "display_name": "Python 3"
    },
    "language_info": {
      "name": "python"
    }
  },
  "cells": [
    {
      "cell_type": "markdown",
      "metadata": {
        "id": "view-in-github",
        "colab_type": "text"
      },
      "source": [
        "<a href=\"https://colab.research.google.com/github/JohnAquino15/Linear-Algebra-58019/blob/main/Vectors.ipynb\" target=\"_parent\"><img src=\"https://colab.research.google.com/assets/colab-badge.svg\" alt=\"Open In Colab\"/></a>"
      ]
    },
    {
      "cell_type": "markdown",
      "metadata": {
        "id": "7ZzYC-4J0qat"
      },
      "source": [
        "#Matrix Algebra"
      ]
    },
    {
      "cell_type": "code",
      "metadata": {
        "colab": {
          "base_uri": "https://localhost:8080/"
        },
        "id": "rsien-sX02wd",
        "outputId": "c55b6651-b926-42a0-98e4-7a0d4dd3bf83"
      },
      "source": [
        "#numpy\n",
        "import numpy as np\n",
        "a = np.array([1,2,3]) #example of a 1x3 matrix\n",
        "print(a)"
      ],
      "execution_count": 2,
      "outputs": [
        {
          "output_type": "stream",
          "name": "stdout",
          "text": [
            "[1 2 3]\n"
          ]
        }
      ]
    },
    {
      "cell_type": "code",
      "metadata": {
        "colab": {
          "base_uri": "https://localhost:8080/"
        },
        "id": "E34aFFin1mDM",
        "outputId": "ba8334b6-ea5f-4af5-deee-1e2a3ff31818"
      },
      "source": [
        "b = np.array([[1,2,3],[4,5,6]])\n",
        "print(b)"
      ],
      "execution_count": 5,
      "outputs": [
        {
          "output_type": "stream",
          "name": "stdout",
          "text": [
            "[[1 2 3]\n",
            " [4 5 6]]\n"
          ]
        }
      ]
    },
    {
      "cell_type": "code",
      "metadata": {
        "colab": {
          "base_uri": "https://localhost:8080/"
        },
        "id": "jOwIaEMZ1-Dv",
        "outputId": "1f181435-d933-47d4-8331-5b189ecb2c3b"
      },
      "source": [
        "c = np.array([[1,2,3],[4,5,6],[7,8,9]])\n",
        "print(c)\n",
        "print(c-c)"
      ],
      "execution_count": 27,
      "outputs": [
        {
          "output_type": "stream",
          "name": "stdout",
          "text": [
            "[[1 2 3]\n",
            " [4 5 6]\n",
            " [7 8 9]]\n",
            "[[0 0 0]\n",
            " [0 0 0]\n",
            " [0 0 0]]\n"
          ]
        }
      ]
    },
    {
      "cell_type": "code",
      "metadata": {
        "colab": {
          "base_uri": "https://localhost:8080/"
        },
        "id": "tL5cJ1AM2kul",
        "outputId": "b1139d57-90b3-4a28-d431-0e03281f8124"
      },
      "source": [
        "d = np.diagonal([[1,2,3],[4,5,6],[7,8,9]])\n",
        "d1 = np.array([[1,2,3],[4,5,6],[7,8,9]])\n",
        "print(d1)\n",
        "print(d)"
      ],
      "execution_count": 19,
      "outputs": [
        {
          "output_type": "stream",
          "name": "stdout",
          "text": [
            "[[1 2 3]\n",
            " [4 5 6]\n",
            " [7 8 9]]\n",
            "[1 5 9]\n"
          ]
        }
      ]
    },
    {
      "cell_type": "code",
      "metadata": {
        "colab": {
          "base_uri": "https://localhost:8080/"
        },
        "id": "0eAy3JTL3UFb",
        "outputId": "1d5085e8-4ab7-4d07-f07b-f930ca927f55"
      },
      "source": [
        "e = np.full( (3,3),7)\n",
        "print(e)\n",
        "print(e+e)"
      ],
      "execution_count": 26,
      "outputs": [
        {
          "output_type": "stream",
          "name": "stdout",
          "text": [
            "[[7 7 7]\n",
            " [7 7 7]\n",
            " [7 7 7]]\n",
            "[[14 14 14]\n",
            " [14 14 14]\n",
            " [14 14 14]]\n"
          ]
        }
      ]
    },
    {
      "cell_type": "code",
      "metadata": {
        "colab": {
          "base_uri": "https://localhost:8080/"
        },
        "id": "nStCrf473Z9G",
        "outputId": "98b5b366-c096-4ef0-8849-bba960dceebe"
      },
      "source": [
        "f=np.eye(3)\n",
        "print(f)"
      ],
      "execution_count": 20,
      "outputs": [
        {
          "output_type": "stream",
          "name": "stdout",
          "text": [
            "[[1. 0. 0.]\n",
            " [0. 1. 0.]\n",
            " [0. 0. 1.]]\n"
          ]
        }
      ]
    },
    {
      "cell_type": "code",
      "metadata": {
        "colab": {
          "base_uri": "https://localhost:8080/"
        },
        "id": "SElgr8Cq3_TM",
        "outputId": "9a58abf0-9df2-48b8-d10d-9f1f20390e9b"
      },
      "source": [
        "g = np.zeros((6,6))\n",
        "print(g)"
      ],
      "execution_count": 22,
      "outputs": [
        {
          "output_type": "stream",
          "name": "stdout",
          "text": [
            "[[0. 0. 0. 0. 0. 0.]\n",
            " [0. 0. 0. 0. 0. 0.]\n",
            " [0. 0. 0. 0. 0. 0.]\n",
            " [0. 0. 0. 0. 0. 0.]\n",
            " [0. 0. 0. 0. 0. 0.]\n",
            " [0. 0. 0. 0. 0. 0.]]\n"
          ]
        }
      ]
    },
    {
      "cell_type": "code",
      "metadata": {
        "colab": {
          "base_uri": "https://localhost:8080/"
        },
        "id": "6r17mctE4JSc",
        "outputId": "3b9e7af8-8cdd-4072-a710-49cfc378813b"
      },
      "source": [
        "h = np.empty((0,10))\n",
        "print(h)"
      ],
      "execution_count": 25,
      "outputs": [
        {
          "output_type": "stream",
          "name": "stdout",
          "text": [
            "[]\n"
          ]
        }
      ]
    },
    {
      "cell_type": "code",
      "metadata": {
        "id": "8UZyFzW74YXU"
      },
      "source": [
        ""
      ],
      "execution_count": null,
      "outputs": []
    }
  ]
}